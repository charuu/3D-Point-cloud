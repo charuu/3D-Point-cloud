{
 "cells": [
  {
   "cell_type": "code",
   "execution_count": 2,
   "metadata": {},
   "outputs": [],
   "source": [
    "import shlex, subprocess"
   ]
  },
  {
   "cell_type": "code",
   "execution_count": 8,
   "metadata": {},
   "outputs": [
    {
     "name": "stdout",
     "output_type": "stream",
     "text": [
      "Size :1 \n",
      "SUM : 4.000000\n",
      "Size :4 \n",
      "SUM : 64.000000\n",
      "Size :32 \n",
      "SUM : 4096.000000\n",
      "Size :64 \n",
      "SUM : 16384.000000\n",
      "Size :128 \n",
      "SUM : 65536.000000\n",
      "Size :256 \n",
      "SUM : 262144.000000\n"
     ]
    },
    {
     "name": "stderr",
     "output_type": "stream",
     "text": [
      "0.18 User\n",
      "0.60 User\n",
      "0.58 User\n",
      "0.87 User\n",
      "0.15 User\n",
      "0.17 User\n"
     ]
    },
    {
     "name": "stdout",
     "output_type": "stream",
     "text": [
      "Size :512 \n",
      "SUM : 1048576.000000\n",
      "Size :1024 \n",
      "SUM : 4194304.000000\n"
     ]
    },
    {
     "name": "stderr",
     "output_type": "stream",
     "text": [
      "31.20 User\n",
      "1.53 User\n"
     ]
    },
    {
     "name": "stdout",
     "output_type": "stream",
     "text": [
      "Size :2048 \n",
      "SUM : 16777216.000000\n"
     ]
    },
    {
     "name": "stderr",
     "output_type": "stream",
     "text": [
      "11.70 User\n"
     ]
    },
    {
     "data": {
      "text/plain": [
       "CompletedProcess(args=['time', '-f', '%U User', '../../HPC_tests/mat-multiplication/experiment/mat_mul_cpu', '2048'], returncode=0)"
      ]
     },
     "execution_count": 8,
     "metadata": {},
     "output_type": "execute_result"
    }
   ],
   "source": [
    "subprocess.run([\"time\",\"-f\", \"%U User\",\"../../HPC_tests/mat-multiplication/experiment/mat_mul_cpu\",\"1\"])\n",
    "subprocess.run([\"time\",\"-f\", \"%U User\",\"../../HPC_tests/mat-multiplication/experiment/mat_mul_cpu\",\"4\"])\n",
    "subprocess.run([\"time\",\"-f\", \"%U User\",\"../../HPC_tests/mat-multiplication/experiment/mat_mul_cpu\",\"32\"])\n",
    "subprocess.run([\"time\",\"-f\", \"%U User\",\"../../HPC_tests/mat-multiplication/experiment/mat_mul_cpu\",\"64\"])\n",
    "subprocess.run([\"time\",\"-f\", \"%U User\",\"../../HPC_tests/mat-multiplication/experiment/mat_mul_cpu\",\"128\"])\n",
    "subprocess.run([\"time\",\"-f\", \"%U User\",\"../../HPC_tests/mat-multiplication/experiment/mat_mul_cpu\",\"256\"])\n",
    "subprocess.run([\"time\",\"-f\", \"%U User\",\"../../HPC_tests/mat-multiplication/experiment/mat_mul_cpu\",\"512\"])\n",
    "subprocess.run([\"time\",\"-f\", \"%U User\",\"../../HPC_tests/mat-multiplication/experiment/mat_mul_cpu\",\"1024\"])\n",
    "subprocess.run([\"time\",\"-f\", \"%U User\",\"../../HPC_tests/mat-multiplication/experiment/mat_mul_cpu\",\"2048\"])"
   ]
  },
  {
   "cell_type": "code",
   "execution_count": 9,
   "metadata": {},
   "outputs": [
    {
     "name": "stdout",
     "output_type": "stream",
     "text": [
      "Size :1 \n",
      "SUM:4.000000\n",
      "Size :4 \n",
      "SUM:64.000000\n",
      "Size :32 \n",
      "SUM:4096.000000\n",
      "Size :64 \n",
      "SUM:16384.000000\n"
     ]
    },
    {
     "name": "stderr",
     "output_type": "stream",
     "text": [
      "0.02s User\n",
      "0.00s User\n",
      "0.01s User\n",
      "0.01s User\n"
     ]
    },
    {
     "name": "stdout",
     "output_type": "stream",
     "text": [
      "Size :128 \n",
      "SUM:65536.000000\n",
      "Size :256 \n",
      "SUM:262144.000000\n",
      "Size :512 \n"
     ]
    },
    {
     "name": "stderr",
     "output_type": "stream",
     "text": [
      "0.00s User\n",
      "0.03s User\n"
     ]
    },
    {
     "name": "stdout",
     "output_type": "stream",
     "text": [
      "SUM:1048576.000000\n",
      "Size :1024 \n"
     ]
    },
    {
     "name": "stderr",
     "output_type": "stream",
     "text": [
      "0.08s User\n"
     ]
    },
    {
     "name": "stdout",
     "output_type": "stream",
     "text": [
      "SUM:4194304.000000\n",
      "Size :2048 \n"
     ]
    },
    {
     "name": "stderr",
     "output_type": "stream",
     "text": [
      "0.31s User\n"
     ]
    },
    {
     "name": "stdout",
     "output_type": "stream",
     "text": [
      "SUM:16777216.000000\n",
      "Size :4096 \n"
     ]
    },
    {
     "name": "stderr",
     "output_type": "stream",
     "text": [
      "1.25s User\n"
     ]
    },
    {
     "name": "stdout",
     "output_type": "stream",
     "text": [
      "SUM:67108864.000000\n",
      "Size :8192 \n"
     ]
    },
    {
     "name": "stderr",
     "output_type": "stream",
     "text": [
      "5.24s User\n"
     ]
    },
    {
     "name": "stdout",
     "output_type": "stream",
     "text": [
      "SUM:268435456.000000\n",
      "Size :16384 \n"
     ]
    },
    {
     "name": "stderr",
     "output_type": "stream",
     "text": [
      "21.68s User\n"
     ]
    },
    {
     "name": "stdout",
     "output_type": "stream",
     "text": [
      "SUM:1073741824.000000\n"
     ]
    },
    {
     "name": "stderr",
     "output_type": "stream",
     "text": [
      "92.21s User\n"
     ]
    },
    {
     "data": {
      "text/plain": [
       "CompletedProcess(args=['time', '-f', '%Us User', '../../HPC_tests/mat-multiplication/experiment/mat_mul_gpu_byReference', '16384'], returncode=0)"
      ]
     },
     "execution_count": 9,
     "metadata": {},
     "output_type": "execute_result"
    }
   ],
   "source": [
    "#by reference\n",
    "subprocess.run([\"time\",\"-f\", \"%Us User\",\"../../HPC_tests/mat-multiplication/experiment/mat_mul_gpu_byReference\",\"1\"])\n",
    "subprocess.run([\"time\",\"-f\", \"%Us User\",\"../../HPC_tests/mat-multiplication/experiment/mat_mul_gpu_byReference\",\"4\"])\n",
    "subprocess.run([\"time\",\"-f\", \"%Us User\",\"../../HPC_tests/mat-multiplication/experiment/mat_mul_gpu_byReference\",\"32\"])\n",
    "subprocess.run([\"time\",\"-f\", \"%Us User\",\"../../HPC_tests/mat-multiplication/experiment/mat_mul_gpu_byReference\",\"64\"])\n",
    "subprocess.run([\"time\",\"-f\", \"%Us User\",\"../../HPC_tests/mat-multiplication/experiment/mat_mul_gpu_byReference\",\"128\"])\n",
    "subprocess.run([\"time\",\"-f\", \"%Us User\",\"../../HPC_tests/mat-multiplication/experiment/mat_mul_gpu_byReference\",\"256\"])\n",
    "subprocess.run([\"time\",\"-f\", \"%Us User\",\"../../HPC_tests/mat-multiplication/experiment/mat_mul_gpu_byReference\",\"512\"])\n",
    "subprocess.run([\"time\",\"-f\", \"%Us User\",\"../../HPC_tests/mat-multiplication/experiment/mat_mul_gpu_byReference\",\"1024\"])\n",
    "subprocess.run([\"time\",\"-f\", \"%Us User\",\"../../HPC_tests/mat-multiplication/experiment/mat_mul_gpu_byReference\",\"2048\"])\n",
    "subprocess.run([\"time\",\"-f\", \"%Us User\",\"../../HPC_tests/mat-multiplication/experiment/mat_mul_gpu_byReference\",\"4096\"])\n",
    "subprocess.run([\"time\",\"-f\", \"%Us User\",\"../../HPC_tests/mat-multiplication/experiment/mat_mul_gpu_byReference\",\"8192\"])\n",
    "subprocess.run([\"time\",\"-f\", \"%Us User\",\"../../HPC_tests/mat-multiplication/experiment/mat_mul_gpu_byReference\",\"16384\"])\n"
   ]
  },
  {
   "cell_type": "code",
   "execution_count": 17,
   "metadata": {},
   "outputs": [
    {
     "name": "stdout",
     "output_type": "stream",
     "text": [
      "Size :1 \n",
      "SUM:4.000000\n",
      "Size :4 \n",
      "SUM:64.000000\n",
      "Size :32 \n",
      "SUM:4096.000000\n",
      "Size :64 \n",
      "SUM:16384.000000\n"
     ]
    },
    {
     "name": "stderr",
     "output_type": "stream",
     "text": [
      "0.00s User\n",
      "0.01s User\n",
      "0.00s User\n",
      "0.00s User\n"
     ]
    },
    {
     "name": "stdout",
     "output_type": "stream",
     "text": [
      "Size :128 \n",
      "SUM:65536.000000\n",
      "Size :256 \n",
      "SUM:262144.000000\n",
      "Size :512 \n",
      "SUM:1048576.000000\n"
     ]
    },
    {
     "name": "stderr",
     "output_type": "stream",
     "text": [
      "0.01s User\n",
      "0.01s User\n",
      "0.07s User\n"
     ]
    },
    {
     "name": "stdout",
     "output_type": "stream",
     "text": [
      "Size :1024 \n",
      "SUM:4194304.000000\n"
     ]
    },
    {
     "name": "stderr",
     "output_type": "stream",
     "text": [
      "0.23s User\n"
     ]
    },
    {
     "name": "stdout",
     "output_type": "stream",
     "text": [
      "Size :2048 \n",
      "SUM:16777216.000000\n"
     ]
    },
    {
     "name": "stderr",
     "output_type": "stream",
     "text": [
      "0.88s User\n"
     ]
    },
    {
     "name": "stdout",
     "output_type": "stream",
     "text": [
      "Size :4096 \n",
      "SUM:67108864.000000\n"
     ]
    },
    {
     "name": "stderr",
     "output_type": "stream",
     "text": [
      "3.69s User\n"
     ]
    },
    {
     "name": "stdout",
     "output_type": "stream",
     "text": [
      "Size :8192 \n",
      "SUM:268435456.000000\n"
     ]
    },
    {
     "name": "stderr",
     "output_type": "stream",
     "text": [
      "15.42s User\n"
     ]
    },
    {
     "name": "stdout",
     "output_type": "stream",
     "text": [
      "Size :16384 \n",
      "SUM:1073741824.000000\n"
     ]
    },
    {
     "name": "stderr",
     "output_type": "stream",
     "text": [
      "67.14s User\n"
     ]
    },
    {
     "data": {
      "text/plain": [
       "CompletedProcess(args=['time', '-f', '%Us User', '../../HPC_tests/mat-multiplication/experiment/mat_mul_byref', '16384'], returncode=0)"
      ]
     },
     "execution_count": 17,
     "metadata": {},
     "output_type": "execute_result"
    }
   ],
   "source": [
    "#by reference using memcopy\n",
    "subprocess.run([\"time\",\"-f\", \"%Us User\",\"../../HPC_tests/mat-multiplication/experiment/mat_mul_byref\",\"1\"])\n",
    "subprocess.run([\"time\",\"-f\", \"%Us User\",\"../../HPC_tests/mat-multiplication/experiment/mat_mul_byref\",\"4\"])\n",
    "subprocess.run([\"time\",\"-f\", \"%Us User\",\"../../HPC_tests/mat-multiplication/experiment/mat_mul_byref\",\"32\"])\n",
    "subprocess.run([\"time\",\"-f\", \"%Us User\",\"../../HPC_tests/mat-multiplication/experiment/mat_mul_byref\",\"64\"])\n",
    "subprocess.run([\"time\",\"-f\", \"%Us User\",\"../../HPC_tests/mat-multiplication/experiment/mat_mul_byref\",\"128\"])\n",
    "subprocess.run([\"time\",\"-f\", \"%Us User\",\"../../HPC_tests/mat-multiplication/experiment/mat_mul_byref\",\"256\"])\n",
    "subprocess.run([\"time\",\"-f\", \"%Us User\",\"../../HPC_tests/mat-multiplication/experiment/mat_mul_byref\",\"512\"])\n",
    "subprocess.run([\"time\",\"-f\", \"%Us User\",\"../../HPC_tests/mat-multiplication/experiment/mat_mul_byref\",\"1024\"])\n",
    "subprocess.run([\"time\",\"-f\", \"%Us User\",\"../../HPC_tests/mat-multiplication/experiment/mat_mul_byref\",\"2048\"])\n",
    "subprocess.run([\"time\",\"-f\", \"%Us User\",\"../../HPC_tests/mat-multiplication/experiment/mat_mul_byref\",\"4096\"])\n",
    "subprocess.run([\"time\",\"-f\", \"%Us User\",\"../../HPC_tests/mat-multiplication/experiment/mat_mul_byref\",\"8192\"])\n",
    "subprocess.run([\"time\",\"-f\", \"%Us User\",\"../../HPC_tests/mat-multiplication/experiment/mat_mul_byref\",\"16384\"])\n"
   ]
  },
  {
   "cell_type": "code",
   "execution_count": 10,
   "metadata": {},
   "outputs": [
    {
     "name": "stdout",
     "output_type": "stream",
     "text": [
      "Size :1 \n",
      "SUM:0.000000\n",
      "Size :4 \n",
      "SUM:0.000000\n",
      "Size :32 \n",
      "SUM:4096.000000\n",
      "Size :64 \n",
      "SUM:16384.000000\n"
     ]
    },
    {
     "name": "stderr",
     "output_type": "stream",
     "text": [
      "0.01s User\n",
      "0.00s User\n",
      "0.01s User\n",
      "0.01s User\n"
     ]
    },
    {
     "name": "stdout",
     "output_type": "stream",
     "text": [
      "Size :128 \n",
      "SUM:65536.000000\n",
      "Size :256 \n",
      "SUM:262144.000000\n",
      "Size :512 \n",
      "SUM:1048576.000000\n"
     ]
    },
    {
     "name": "stderr",
     "output_type": "stream",
     "text": [
      "0.00s User\n",
      "0.02s User\n",
      "0.04s User\n"
     ]
    },
    {
     "name": "stdout",
     "output_type": "stream",
     "text": [
      "Size :1024 \n",
      "SUM:4194304.000000\n",
      "Size :2048 \n"
     ]
    },
    {
     "name": "stderr",
     "output_type": "stream",
     "text": [
      "0.13s User\n"
     ]
    },
    {
     "name": "stdout",
     "output_type": "stream",
     "text": [
      "SUM:16777216.000000\n",
      "Size :4096 \n"
     ]
    },
    {
     "name": "stderr",
     "output_type": "stream",
     "text": [
      "0.48s User\n"
     ]
    },
    {
     "name": "stdout",
     "output_type": "stream",
     "text": [
      "SUM:67108864.000000\n",
      "Size :8192 \n"
     ]
    },
    {
     "name": "stderr",
     "output_type": "stream",
     "text": [
      "1.93s User\n"
     ]
    },
    {
     "name": "stdout",
     "output_type": "stream",
     "text": [
      "SUM:268435456.000000\n",
      "Size :16384 \n"
     ]
    },
    {
     "name": "stderr",
     "output_type": "stream",
     "text": [
      "7.73s User\n"
     ]
    },
    {
     "name": "stdout",
     "output_type": "stream",
     "text": [
      "SUM:1073741824.000000\n"
     ]
    },
    {
     "name": "stderr",
     "output_type": "stream",
     "text": [
      "30.85s User\n"
     ]
    },
    {
     "data": {
      "text/plain": [
       "CompletedProcess(args=['time', '-f', '%Us User', '../../HPC_tests/mat-multiplication/experiment/mat_mul_gpu_shared_mem', '16384'], returncode=0)"
      ]
     },
     "execution_count": 10,
     "metadata": {},
     "output_type": "execute_result"
    }
   ],
   "source": [
    "#by reference\n",
    "subprocess.run([\"time\",\"-f\", \"%Us User\",\"../../HPC_tests/mat-multiplication/experiment/mat_mul_gpu_shared_mem\",\"1\"])\n",
    "subprocess.run([\"time\",\"-f\", \"%Us User\",\"../../HPC_tests/mat-multiplication/experiment/mat_mul_gpu_shared_mem\",\"4\"])\n",
    "subprocess.run([\"time\",\"-f\", \"%Us User\",\"../../HPC_tests/mat-multiplication/experiment/mat_mul_gpu_shared_mem\",\"32\"])\n",
    "subprocess.run([\"time\",\"-f\", \"%Us User\",\"../../HPC_tests/mat-multiplication/experiment/mat_mul_gpu_shared_mem\",\"64\"])\n",
    "subprocess.run([\"time\",\"-f\", \"%Us User\",\"../../HPC_tests/mat-multiplication/experiment/mat_mul_gpu_shared_mem\",\"128\"])\n",
    "subprocess.run([\"time\",\"-f\", \"%Us User\",\"../../HPC_tests/mat-multiplication/experiment/mat_mul_gpu_shared_mem\",\"256\"])\n",
    "subprocess.run([\"time\",\"-f\", \"%Us User\",\"../../HPC_tests/mat-multiplication/experiment/mat_mul_gpu_shared_mem\",\"512\"])\n",
    "subprocess.run([\"time\",\"-f\", \"%Us User\",\"../../HPC_tests/mat-multiplication/experiment/mat_mul_gpu_shared_mem\",\"1024\"])\n",
    "subprocess.run([\"time\",\"-f\", \"%Us User\",\"../../HPC_tests/mat-multiplication/experiment/mat_mul_gpu_shared_mem\",\"2048\"])\n",
    "subprocess.run([\"time\",\"-f\", \"%Us User\",\"../../HPC_tests/mat-multiplication/experiment/mat_mul_gpu_shared_mem\",\"4096\"])\n",
    "subprocess.run([\"time\",\"-f\", \"%Us User\",\"../../HPC_tests/mat-multiplication/experiment/mat_mul_gpu_shared_mem\",\"8192\"])\n",
    "subprocess.run([\"time\",\"-f\", \"%Us User\",\"../../HPC_tests/mat-multiplication/experiment/mat_mul_gpu_shared_mem\",\"16384\"])\n"
   ]
  },
  {
   "cell_type": "code",
   "execution_count": null,
   "metadata": {},
   "outputs": [],
   "source": [
    "subprocess.run([\"../../HPC_tests/mat-multiplication-cpu/omp/lud_gcc\",\"-s 32\"])\n",
    "subprocess.run([\"../../HPC_tests/mat-multiplication-cpu/omp/lud_gcc\",\"-s 64\"])\n",
    "subprocess.run([\"../../HPC_tests/mat-multiplication-cpu/omp/lud_gcc\",\"-s 1028\"])\n",
    "subprocess.run([\"../../HPC_tests/mat-multiplication-cpu/omp/lud_gcc\",\"-s 2048\"])\n",
    "subprocess.run([\"../../HPC_tests/mat-multiplication-cpu/omp/lud_gcc\",\"-s 4096\"])\n",
    "subprocess.run([\"../../HPC_tests/mat-multiplication-cpu/omp/lud_gcc\",\"-s 8192\"])"
   ]
  },
  {
   "cell_type": "code",
   "execution_count": null,
   "metadata": {},
   "outputs": [],
   "source": [
    "subprocess.run([\"../../HPC_tests/mat-mulitplication-gpu/omp/lud_gcc\",\"-s 32\"])\n",
    "subprocess.run([\"../../HPC_tests/mat-mulitplication-gpu/omp/lud_gcc\",\"-s 64\"])\n",
    "subprocess.run([\"../../HPC_tests/mat-mulitplication-gpu/omp/lud_gcc\",\"-s 1028\"])\n",
    "subprocess.run([\"../../HPC_tests/mat-mulitplication-gpu/omp/lud_gcc\",\"-s 2048\"])\n",
    "subprocess.run([\"../../HPC_tests/mat-mulitplication-gpu/omp/lud_gcc\",\"-s 4096\"])\n",
    "subprocess.run([\"../../HPC_tests/mat-mulitplication-gpu/omp/lud_gcc\",\"-s 8192\"])\n",
    "subprocess.run([\"../../HPC_tests/mat-mulitplication-gpu/omp/lud_gcc\",\"-s 16384\"])"
   ]
  },
  {
   "cell_type": "code",
   "execution_count": null,
   "metadata": {},
   "outputs": [],
   "source": [
    "subprocess.run([\"time\",\"-f\", \"%U User\",\"../../HPC_tests/mat-multiplication/experiment/mat_mul_gpu\",\"32\"])\n",
    "subprocess.run([\"time\",\"-f\", \"%U User\",\"../../HPC_tests/mat-multiplication/experiment/mat_mul_gpu\",\"64\"])\n",
    "subprocess.run([\"time\",\"-f\", \"%U User\",\"../../HPC_tests/mat-multiplication/experiment/mat_mul_gpu\",\"128\"])\n",
    "subprocess.run([\"time\",\"-f\", \"%U User\",\"../../HPC_tests/mat-multiplication/experiment/mat_mul_gpu\",\"256\"])\n",
    "subprocess.run([\"time\",\"-f\", \"%U User\",\"../../HPC_tests/mat-multiplication/experiment/mat_mul_gpu\",\"512\"])"
   ]
  },
  {
   "cell_type": "code",
   "execution_count": null,
   "metadata": {},
   "outputs": [],
   "source": [
    "#safelen(4)\n",
    "\n",
    "subprocess.run([\"time\",\"-f\", \"%U User\",\"../../HPC_tests/mat-multiplication/experiment/mat_mul_gpu\",\"32\"])\n",
    "subprocess.run([\"time\",\"-f\", \"%U User\",\"../../HPC_tests/mat-multiplication/experiment/mat_mul_gpu\",\"64\"])\n",
    "subprocess.run([\"time\",\"-f\", \"%U User\",\"../../HPC_tests/mat-multiplication/experiment/mat_mul_gpu\",\"128\"])\n",
    "subprocess.run([\"time\",\"-f\", \"%U User\",\"../../HPC_tests/mat-multiplication/experiment/mat_mul_gpu\",\"256\"])\n",
    "subprocess.run([\"time\",\"-f\", \"%U User\",\"../../HPC_tests/mat-multiplication/experiment/mat_mul_gpu\",\"512\"])"
   ]
  },
  {
   "cell_type": "code",
   "execution_count": null,
   "metadata": {},
   "outputs": [],
   "source": [
    "#safelen(8)\n",
    "\n",
    "subprocess.run([\"time\",\"-f\", \"%U User\",\"../../HPC_tests/mat-multiplication/experiment/mat_mul_gpu\",\"32\"])\n",
    "subprocess.run([\"time\",\"-f\", \"%U User\",\"../../HPC_tests/mat-multiplication/experiment/mat_mul_gpu\",\"64\"])\n",
    "subprocess.run([\"time\",\"-f\", \"%U User\",\"../../HPC_tests/mat-multiplication/experiment/mat_mul_gpu\",\"128\"])\n",
    "subprocess.run([\"time\",\"-f\", \"%U User\",\"../../HPC_tests/mat-multiplication/experiment/mat_mul_gpu\",\"256\"])\n",
    "subprocess.run([\"time\",\"-f\", \"%U User\",\"../../HPC_tests/mat-multiplication/experiment/mat_mul_gpu\",\"512\"])"
   ]
  },
  {
   "cell_type": "code",
   "execution_count": null,
   "metadata": {},
   "outputs": [],
   "source": [
    "# safelen(4) simdlen(2)\n",
    "\n",
    "subprocess.run([\"time\",\"-f\", \"%U User\",\"../../HPC_tests/mat-multiplication/experiment/mat_mul_gpu\",\"32\"])\n",
    "subprocess.run([\"time\",\"-f\", \"%U User\",\"../../HPC_tests/mat-multiplication/experiment/mat_mul_gpu\",\"64\"])\n",
    "subprocess.run([\"time\",\"-f\", \"%U User\",\"../../HPC_tests/mat-multiplication/experiment/mat_mul_gpu\",\"128\"])\n",
    "subprocess.run([\"time\",\"-f\", \"%U User\",\"../../HPC_tests/mat-multiplication/experiment/mat_mul_gpu\",\"256\"])\n",
    "subprocess.run([\"time\",\"-f\", \"%U User\",\"../../HPC_tests/mat-multiplication/experiment/mat_mul_gpu\",\"512\"])"
   ]
  },
  {
   "cell_type": "code",
   "execution_count": null,
   "metadata": {},
   "outputs": [],
   "source": [
    "# aligned(l:32) aligned(u:32)\n",
    "\n",
    "subprocess.run([\"time\",\"-f\", \"%U User\",\"../../HPC_tests/mat-multiplication/experiment/mat_mul_gpu\",\"32\"])\n",
    "subprocess.run([\"time\",\"-f\", \"%U User\",\"../../HPC_tests/mat-multiplication/experiment/mat_mul_gpu\",\"64\"])\n",
    "subprocess.run([\"time\",\"-f\", \"%U User\",\"../../HPC_tests/mat-multiplication/experiment/mat_mul_gpu\",\"128\"])\n",
    "subprocess.run([\"time\",\"-f\", \"%U User\",\"../../HPC_tests/mat-multiplication/experiment/mat_mul_gpu\",\"256\"])\n",
    "subprocess.run([\"time\",\"-f\", \"%U User\",\"../../HPC_tests/mat-multiplication/experiment/mat_mul_gpu\",\"512\"])"
   ]
  }
 ],
 "metadata": {
  "kernelspec": {
   "display_name": "Python 3 (ipykernel)",
   "language": "python",
   "name": "python3"
  },
  "language_info": {
   "codemirror_mode": {
    "name": "ipython",
    "version": 3
   },
   "file_extension": ".py",
   "mimetype": "text/x-python",
   "name": "python",
   "nbconvert_exporter": "python",
   "pygments_lexer": "ipython3",
   "version": "3.10.6"
  },
  "orig_nbformat": 4
 },
 "nbformat": 4,
 "nbformat_minor": 2
}
