{
 "cells": [
  {
   "cell_type": "code",
   "execution_count": 2,
   "id": "27a8ff91",
   "metadata": {
    "scrolled": true
   },
   "outputs": [
    {
     "name": "stdout",
     "output_type": "stream",
     "text": [
      " * Serving Flask app '__main__' (lazy loading)\n",
      " * Environment: production\n",
      "\u001b[31m   WARNING: This is a development server. Do not use it in a production deployment.\u001b[0m\n",
      "\u001b[2m   Use a production WSGI server instead.\u001b[0m\n",
      " * Debug mode: on\n"
     ]
    },
    {
     "name": "stderr",
     "output_type": "stream",
     "text": [
      " * Running on http://localhost:4576/ (Press CTRL+C to quit)\n",
      " * Restarting with stat\n"
     ]
    },
    {
     "ename": "SystemExit",
     "evalue": "1",
     "output_type": "error",
     "traceback": [
      "An exception has occurred, use %tb to see the full traceback.\n",
      "\u001b[0;31mSystemExit\u001b[0m\u001b[0;31m:\u001b[0m 1\n"
     ]
    },
    {
     "name": "stderr",
     "output_type": "stream",
     "text": [
      "/home/charuj/.conda/envs/teaser_test/lib/python3.6/site-packages/IPython/core/interactiveshell.py:3351: UserWarning: To exit: use 'exit', 'quit', or Ctrl-D.\n",
      "  warn(\"To exit: use 'exit', 'quit', or Ctrl-D.\", stacklevel=1)\n"
     ]
    }
   ],
   "source": [
    "import os\n",
    "from flask import Flask, render_template, abort, url_for, json, jsonify\n",
    "import json\n",
    "import html\n",
    "from json2html import *\n",
    "\n",
    "app = Flask(__name__)\n",
    "\n",
    "# read file\n",
    "with open('../data.json', 'r') as myfile:\n",
    "    data = myfile.read()\n",
    "#, jsonfile=jsonify(data)\n",
    "@app.route(\"/\")\n",
    "def index():\n",
    "    return render_template('index.html', title=\"page\")\n",
    "\n",
    "PORT = int(os.environ.get('PORT', 4576))\n",
    "app.run(host='localhost',port = PORT,debug=True)"
   ]
  },
  {
   "cell_type": "code",
   "execution_count": 7,
   "id": "faf75ad8",
   "metadata": {},
   "outputs": [
    {
     "data": {
      "text/plain": [
       "'<table border=\"1\"><tr><th>id</th><td>1</td></tr><tr><th>run1</th><td><table border=\"1\"><tr><th>transaction</th><td><table border=\"1\"><tr><th>reference</th><td>/home/charuj/Repos/bcpd/data/demo-db/vehicleDb/reference/Skoda_Octavia.03/</td></tr><tr><th>ref_trans_id</th><td>Skoda_Octavia.03_1_subtype_1_1</td></tr><tr><th>target</th><td>/home/charuj/Repos/bcpd/data/demo-db/vehicleDb/target/UP16AV9955/</td></tr><tr><th>target_trans_id</th><td>P02C021-2022053000207</td></tr></table></td></tr><tr><th>parameters</th><td><table border=\"1\"><tr><th>image_size</th><td><ul><li>1000</li><li>1600</li><li>3</li></ul></td></tr><tr><th>DB</th><td>50000</td></tr><tr><th>voxel_size</th><td>0.08</td></tr><tr><th>K</th><td>100</td></tr><tr><th>J</th><td>100</td></tr><tr><th>geodesic</th><td>0.8</td></tr><tr><th>neighbours</th><td>100</td></tr><tr><th>distance</th><td>0.02</td></tr><tr><th>d</th><td>50</td></tr><tr><th>e</th><td>0.2</td></tr><tr><th>f</th><td>0.2</td></tr><tr><th>l</th><td>100</td></tr><tr><th>b</th><td>5</td></tr><tr><th>z</th><td>0.001</td></tr><tr><th>c</th><td>0.0001</td></tr><tr><th>g</th><td>0.1</td></tr></table></td></tr><tr><th>Before_avg</th><td>6.159688220598402</td></tr><tr><th>After_avg</th><td>7.359644843982229</td></tr><tr><th>bounding_boxes</th><td>28</td></tr><tr><th>FPSA_algorithm</th><td>94.919</td></tr><tr><th>Downsampling</th><td>0.409</td></tr><tr><th>VB Optimization</th><td>75.921</td></tr><tr><th>Interpolation</th><td>1.207</td></tr><tr><th>File_reading</th><td>2.94</td></tr><tr><th>File writing</th><td>7.975</td></tr><tr><th>loops</th><td>33</td></tr><tr><th>sigma</th><td>0.064637</td></tr><tr><th>N_hat</th><td>49038.0</td></tr></table></td></tr></table>'"
      ]
     },
     "execution_count": 7,
     "metadata": {},
     "output_type": "execute_result"
    }
   ],
   "source": [
    "with open('../data.json', 'r') as myfile:\n",
    "    data = myfile.read()\n",
    "    \n",
    "json2html.convert(json = data)\n"
   ]
  },
  {
   "cell_type": "code",
   "execution_count": null,
   "id": "e188d059",
   "metadata": {},
   "outputs": [],
   "source": []
  }
 ],
 "metadata": {
  "kernelspec": {
   "display_name": "Python 3 (ipykernel)",
   "language": "python",
   "name": "python3"
  },
  "language_info": {
   "codemirror_mode": {
    "name": "ipython",
    "version": 3
   },
   "file_extension": ".py",
   "mimetype": "text/x-python",
   "name": "python",
   "nbconvert_exporter": "python",
   "pygments_lexer": "ipython3",
   "version": "3.7.16"
  }
 },
 "nbformat": 4,
 "nbformat_minor": 5
}
