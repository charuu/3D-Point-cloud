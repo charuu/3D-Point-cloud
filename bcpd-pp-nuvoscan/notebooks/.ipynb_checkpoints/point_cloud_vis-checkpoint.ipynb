{
 "cells": [
  {
   "cell_type": "code",
   "execution_count": 4,
   "id": "26e13c2d",
   "metadata": {},
   "outputs": [],
   "source": [
    "import numpy as np\n",
    "import cv2\n",
    "import time\n",
    "import matplotlib.pyplot as plt\n",
    "import open3d as o3d\n",
    "from skimage.morphology import reconstruction"
   ]
  },
  {
   "cell_type": "code",
   "execution_count": null,
   "id": "039ecf66",
   "metadata": {},
   "outputs": [],
   "source": [
    "def calculate():\n",
    "        \"\"\"\n",
    "        Summary.\n",
    "        Calculate closed point distance between the reference and target point cloud data.\n",
    "        Parameters:\n",
    "        target (point cloud): Target point cloud data after removal of outliers\n",
    "        Returns:\n",
    "        distance_array: Distance object storing pointwise values from the target \n",
    "        to the reference point cloud using closest point distance function in open3d\n",
    "        \"\"\"\n",
    "        FILENAME_1='/home/charu/Repos/bcpd/bcpd-pp-nuvoscan/XX_after.txt'\n",
    "        \n",
    "        pcd_1 = o3d.io.read_point_cloud(FILENAME_1,'xyz')\n",
    "       \n",
    "        return pcd_1"
   ]
  },
  {
   "cell_type": "code",
   "execution_count": null,
   "id": "40534eef",
   "metadata": {},
   "outputs": [],
   "source": [
    "pcd =calculate()\n"
   ]
  }
 ],
 "metadata": {
  "kernelspec": {
   "display_name": "Python 3 (ipykernel)",
   "language": "python",
   "name": "python3"
  },
  "language_info": {
   "codemirror_mode": {
    "name": "ipython",
    "version": 3
   },
   "file_extension": ".py",
   "mimetype": "text/x-python",
   "name": "python",
   "nbconvert_exporter": "python",
   "pygments_lexer": "ipython3",
   "version": "3.7.16"
  }
 },
 "nbformat": 4,
 "nbformat_minor": 5
}
