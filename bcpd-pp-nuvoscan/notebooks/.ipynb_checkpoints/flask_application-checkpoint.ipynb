{
 "cells": [
  {
   "cell_type": "code",
   "execution_count": 10,
   "id": "7c3006f7",
   "metadata": {
    "scrolled": true
   },
   "outputs": [
    {
     "name": "stdout",
     "output_type": "stream",
     "text": [
      " * Serving Flask app '__main__' (lazy loading)\n",
      " * Environment: production\n",
      "\u001b[31m   WARNING: This is a development server. Do not use it in a production deployment.\u001b[0m\n",
      "\u001b[2m   Use a production WSGI server instead.\u001b[0m\n",
      " * Debug mode: on\n"
     ]
    },
    {
     "name": "stderr",
     "output_type": "stream",
     "text": [
      " * Running on http://localhost:4567/ (Press CTRL+C to quit)\n",
      " * Restarting with stat\n"
     ]
    },
    {
     "ename": "SystemExit",
     "evalue": "1",
     "output_type": "error",
     "traceback": [
      "An exception has occurred, use %tb to see the full traceback.\n",
      "\u001b[0;31mSystemExit\u001b[0m\u001b[0;31m:\u001b[0m 1\n"
     ]
    }
   ],
   "source": [
    "import os\n",
    "from flask import Flask, render_template, abort, url_for, json, jsonify\n",
    "import json\n",
    "import html\n",
    "\n",
    "app = Flask(__name__)\n",
    "\n",
    "# read file\n",
    "with open('../data.json', 'r') as myfile:\n",
    "    data = myfile.read()\n",
    "#, jsonfile=jsonify(data)\n",
    "@app.route(\"/\")\n",
    "def index():\n",
    "    return render_template('index.html', title=\"page\")\n",
    "\n",
    "PORT = int(os.environ.get('PORT', 4567))\n",
    "app.run(host='localhost',port = PORT,debug=True)"
   ]
  },
  {
   "cell_type": "code",
   "execution_count": null,
   "id": "927b5c48",
   "metadata": {},
   "outputs": [],
   "source": []
  }
 ],
 "metadata": {
  "kernelspec": {
   "display_name": "Python 3",
   "language": "python",
   "name": "python3"
  },
  "language_info": {
   "codemirror_mode": {
    "name": "ipython",
    "version": 3
   },
   "file_extension": ".py",
   "mimetype": "text/x-python",
   "name": "python",
   "nbconvert_exporter": "python",
   "pygments_lexer": "ipython3",
   "version": "3.6.13"
  }
 },
 "nbformat": 4,
 "nbformat_minor": 5
}
