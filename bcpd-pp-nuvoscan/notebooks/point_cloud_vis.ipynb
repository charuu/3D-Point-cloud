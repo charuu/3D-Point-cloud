{
 "cells": [
  {
   "cell_type": "code",
   "execution_count": 1,
   "id": "406b8bf2",
   "metadata": {},
   "outputs": [
    {
     "name": "stderr",
     "output_type": "stream",
     "text": [
      "INFO - 2023-06-19 12:27:10,363 - utils - Note: NumExpr detected 16 cores but \"NUMEXPR_MAX_THREADS\" not set, so enforcing safe limit of 8.\n",
      "INFO - 2023-06-19 12:27:10,364 - utils - NumExpr defaulting to 8 threads.\n"
     ]
    }
   ],
   "source": [
    "import numpy as np\n",
    "import cv2\n",
    "import time\n",
    "import matplotlib.pyplot as plt\n",
    "import open3d as o3d\n",
    "from skimage.morphology import reconstruction"
   ]
  },
  {
   "cell_type": "code",
   "execution_count": 2,
   "id": "0b72ebf9",
   "metadata": {},
   "outputs": [],
   "source": [
    "def calculate(FILENAME_1):\n",
    "        \"\"\"\n",
    "        Summary.\n",
    "        Calculate closed point distance between the reference and target point cloud data.\n",
    "        Parameters:\n",
    "        target (point cloud): Target point cloud data after removal of outliers\n",
    "        Returns:\n",
    "        distance_array: Distance object storing pointwise values from the target \n",
    "        to the reference point cloud using closest point distance function in open3d\n",
    "        \"\"\"\n",
    "        \n",
    "        \n",
    "        pcd_1 = o3d.io.read_point_cloud(FILENAME_1,'xyz')\n",
    "       \n",
    "        return pcd_1"
   ]
  },
  {
   "cell_type": "code",
   "execution_count": 11,
   "id": "71b45032",
   "metadata": {},
   "outputs": [],
   "source": [
    "FILENAME_1='/home/charu/Repos/bcpd/bcpd-pp-nuvoscan/XX_after.txt'\n",
    "pcd =calculate(FILENAME_1)\n",
    "o3d.visualization.draw_geometries([pcd])"
   ]
  },
  {
   "cell_type": "code",
   "execution_count": 12,
   "id": "8b7bd067",
   "metadata": {},
   "outputs": [],
   "source": [
    "FILENAME_1='/home/charu/Repos/bcpd/bcpd-pp-nuvoscan/YY_after.txt'\n",
    "pcd =calculate(FILENAME_1)\n",
    "o3d.visualization.draw_geometries([pcd])"
   ]
  },
  {
   "cell_type": "code",
   "execution_count": 4,
   "id": "d31b3264",
   "metadata": {},
   "outputs": [],
   "source": [
    "FILENAME_1='/home/charu/Repos/bcpd/bcpd-pp-nuvoscan/XX_before.txt'\n",
    "pcd =calculate(FILENAME_1)\n",
    "o3d.visualization.draw_geometries([pcd])"
   ]
  },
  {
   "cell_type": "code",
   "execution_count": 14,
   "id": "aee8b02b",
   "metadata": {},
   "outputs": [],
   "source": []
  },
  {
   "cell_type": "code",
   "execution_count": null,
   "id": "f929b79c",
   "metadata": {},
   "outputs": [],
   "source": []
  }
 ],
 "metadata": {
  "kernelspec": {
   "display_name": "Python 3 (ipykernel)",
   "language": "python",
   "name": "python3"
  },
  "language_info": {
   "codemirror_mode": {
    "name": "ipython",
    "version": 3
   },
   "file_extension": ".py",
   "mimetype": "text/x-python",
   "name": "python",
   "nbconvert_exporter": "python",
   "pygments_lexer": "ipython3",
   "version": "3.10.9"
  }
 },
 "nbformat": 4,
 "nbformat_minor": 5
}
